{
 "cells": [
  {
   "cell_type": "code",
   "execution_count": null,
   "id": "e6858c17",
   "metadata": {},
   "outputs": [
    {
     "name": "stdout",
     "output_type": "stream",
     "text": [
      "Serial<id=0x10bca7ca0, open=True>(port='/dev/cu.usbmodem48FE556033311', baudrate=9600, bytesize=8, parity='N', stopbits=1, timeout=1, xonxoff=False, rtscts=False, dsrdtr=False)\n",
      "Serial<id=0x10a42d990, open=True>(port='/dev/cu.usbserial-BG00XWYD', baudrate=9600, bytesize=8, parity='N', stopbits=1, timeout=1, xonxoff=False, rtscts=False, dsrdtr=False)\n"
     ]
    }
   ],
   "source": [
    "import os   # file path\n",
    "import pandas as pd # stoer/manipulate data\n",
    "import numpy as np # numerical operations\n",
    "import time # time delays\n",
    "import serial # serial communication\n",
    "\n",
    "\"\"\"Device communication functions.\"\"\"\n",
    "def DeviceConnect(COMPort): \n",
    "    ser = serial.Serial(COMPort, 9600, timeout = 1) \n",
    "    return ser \n",
    "\n",
    "ser_lcr = DeviceConnect('/dev/cu.usbmodem48FE556033311')       # LCR Meter\n",
    "ser_cn740 = DeviceConnect('/dev/cu.usbserial-BG00XWYD')  # Omega CN740 (RS-485)\n",
    "#parity does not match with Even\n",
    "#DeviceConnect_CN740 defined\n",
    "\n",
    "print(ser_lcr)\n",
    "print(ser_cn740)"
   ]
  },
  {
   "cell_type": "code",
   "execution_count": 10,
   "id": "21a8ac28",
   "metadata": {},
   "outputs": [
    {
     "name": "stdout",
     "output_type": "stream",
     "text": [
      "[]\n",
      "[1]\n",
      "[1, 'a']\n"
     ]
    }
   ],
   "source": [
    "readout = []\n",
    "print(readout)\n",
    "readout.append(1)\n",
    "print(readout)\n",
    "readout.append(\"a\")\n",
    "print(readout)"
   ]
  },
  {
   "cell_type": "code",
   "execution_count": 33,
   "id": "0568ad02",
   "metadata": {},
   "outputs": [
    {
     "name": "stdout",
     "output_type": "stream",
     "text": [
      "[b'100927,-0\\r\\n', '100927,-0\\r\\n', '100927,-0']\n"
     ]
    }
   ],
   "source": [
    "from Functions import*\n",
    "\n",
    "ser_lcr = DeviceConnect('/dev/cu.usbmodem48FE556033311')       # LCR Meter\n",
    "readout = []\n",
    "\n",
    "ser_lcr.write('FETCh?\\n'.encode())\n",
    "readout.append(ser_lcr.readline())\n",
    "\n",
    "ser_lcr.write('FETCh?\\n'.encode())\n",
    "readout.append(ser_lcr.readline().decode())\n",
    "\n",
    "ser_lcr.write('FETCh?\\n'.encode())\n",
    "readout.append(ser_lcr.readline().decode().strip())\n",
    "\n",
    "print(readout)"
   ]
  },
  {
   "cell_type": "code",
   "execution_count": 27,
   "id": "46ad3604",
   "metadata": {},
   "outputs": [
    {
     "name": "stdout",
     "output_type": "stream",
     "text": [
      "['a, b', 'c']\n",
      "2\n",
      "a, b\n",
      "c\n"
     ]
    }
   ],
   "source": [
    "readout = []\n",
    "readout.append('a, b')\n",
    "readout.append('c')\n",
    "print(readout)\n",
    "print(len(readout))\n",
    "\n",
    "print(readout[0])\n",
    "print(readout[1])"
   ]
  },
  {
   "cell_type": "code",
   "execution_count": 49,
   "id": "6b351608",
   "metadata": {},
   "outputs": [
    {
     "name": "stdout",
     "output_type": "stream",
     "text": [
      "exec success\n"
     ]
    }
   ],
   "source": [
    "from Functions import*\n",
    "ser_lcr = DeviceConnect('/dev/cu.usbmodem48FE556033311')\n",
    "\n",
    "ser_lcr.write('BIAS:VOLTage\\n'.encode())\n",
    "print(ser_lcr.readline().decode().strip())"
   ]
  },
  {
   "cell_type": "code",
   "execution_count": 65,
   "id": "5dd2fc3f",
   "metadata": {},
   "outputs": [
    {
     "name": "stdout",
     "output_type": "stream",
     "text": [
      "2.0\n"
     ]
    },
    {
     "data": {
      "text/plain": [
       "(2.0, 2.0, 2.0)"
      ]
     },
     "execution_count": 65,
     "metadata": {},
     "output_type": "execute_result"
    }
   ],
   "source": [
    "import numpy as np \n",
    "a = float(np.log10(100))\n",
    "print(a)\n",
    "a,a,a"
   ]
  },
  {
   "cell_type": "code",
   "execution_count": 101,
   "id": "86b5cfcb",
   "metadata": {},
   "outputs": [
    {
     "name": "stdout",
     "output_type": "stream",
     "text": [
      "[1.e+01 1.e+02 1.e+03 1.e+04 1.e+05 1.e+06 1.e+07 1.e+08 1.e+09 1.e+10]\n",
      "10.0\n"
     ]
    }
   ],
   "source": [
    "temp = np.logspace(1,10,10)\n",
    "print(temp)\n",
    "print(temp[0])"
   ]
  },
  {
   "cell_type": "code",
   "execution_count": 84,
   "id": "0474e7bb",
   "metadata": {},
   "outputs": [
    {
     "name": "stdout",
     "output_type": "stream",
     "text": [
      "    0\n",
      "0   0\n",
      "1   5\n",
      "2  10\n",
      "3  15\n",
      "   Voltage (V)\n",
      "0            0\n",
      "1            5\n",
      "2           10\n",
      "3           15\n",
      "   Voltage (V)\n",
      "a            0\n",
      "b            5\n",
      "c           10\n",
      "d           15\n"
     ]
    }
   ],
   "source": [
    "import numpy as np  \n",
    "import pandas as pd\n",
    "\n",
    "a = np.array([0,5,10,15])\n",
    "df = pd.DataFrame(a)\n",
    "df2 = pd.DataFrame(a, columns = ['Voltage (V)'])\n",
    "df3 = pd.DataFrame(a, columns = ['Voltage (V)'], index = ['a','b','c','d'])\n",
    "print(df) \n",
    "print(df2) \n",
    "print(df3) "
   ]
  },
  {
   "cell_type": "code",
   "execution_count": 104,
   "id": "97e93fef",
   "metadata": {},
   "outputs": [
    {
     "name": "stdout",
     "output_type": "stream",
     "text": [
      "a = [1.1 2.2 3.3 4.4 5.5]\n",
      "b = [1. 2. 3. 4. 6.]\n",
      "c = [1 2 3 4 6]\n"
     ]
    }
   ],
   "source": [
    "a = np.array([1.1, 2.2 ,3.3 ,4.4 ,5.5])\n",
    "b = np.round(a)\n",
    "c = np.round(a).astype(int)\n",
    "print(f\"a = {a}\")\n",
    "print(f\"b = {b}\")\n",
    "print(f\"c = {c}\") "
   ]
  },
  {
   "cell_type": "code",
   "execution_count": 96,
   "id": "384302d8",
   "metadata": {},
   "outputs": [
    {
     "name": "stdout",
     "output_type": "stream",
     "text": [
      "temp = [1 2 3 4 5]\n",
      "a = 1\n",
      "b = (np.int64(1), np.int64(2))\n"
     ]
    }
   ],
   "source": [
    "temp = np.array([1,2,3,4,5])\n",
    "print(f\"temp = {temp}\")\n",
    "a = temp[0]\n",
    "print(f\"a = {a}\")\n",
    "b = (temp[0],temp[1])\n",
    "print(f\"b = {b}\")"
   ]
  },
  {
   "cell_type": "code",
   "execution_count": 110,
   "id": "2b29f4ea",
   "metadata": {},
   "outputs": [
    {
     "name": "stdout",
     "output_type": "stream",
     "text": [
      "d=[[ 1  2  3  4  5]\n",
      " [ 6  7  8  9 10]]\n",
      "e=[[ 1  2  3  4  5]\n",
      " [ 6  7  8  9 10]\n",
      " [11 12 13 14 15]]\n",
      "(3, 5)\n",
      "3\n",
      "15\n",
      "2\n"
     ]
    }
   ],
   "source": [
    "a = np.array([1,2,3,4,5])\n",
    "b = np.array([6,7,8,9,10])\n",
    "c = np.array([11,12,13,14,15])\n",
    "d = np.vstack([a, b])\n",
    "e = np.vstack([d, c])\n",
    "print(f\"d={d}\")\n",
    "print(f\"e={e}\")\n",
    "print(e.shape)\n",
    "print(len(e))\n",
    "print(e.size)\n",
    "print(e.ndim)\n"
   ]
  },
  {
   "cell_type": "code",
   "execution_count": 153,
   "id": "639c07b1",
   "metadata": {},
   "outputs": [
    {
     "name": "stdout",
     "output_type": "stream",
     "text": [
      "[[ 0  0  0  0]\n",
      " [ 0  0  0  0]\n",
      " [ 1  2  3  4]\n",
      " [ 2  4  6  8]\n",
      " [ 3  6  9 12]\n",
      " [ 4  8 12 16]]\n",
      "[0 0 1 2 3 4]\n",
      "[0 0 2 4 6 8]\n",
      "[1 2 3 4]\n"
     ]
    }
   ],
   "source": [
    "temp = np.array([0,0,0,0])\n",
    "for i in range(0,5):\n",
    "    temp = np.vstack([temp, [i, 2*i, 3*i, 4*i]])\n",
    "print(temp) \n",
    "temp.shape\n",
    "\n",
    "temp1=temp[::,0]\n",
    "temp2=temp[::,1]\n",
    "temp3=temp[2,::]\n",
    "print(temp1)\n",
    "print(temp2)\n",
    "print(temp3)\n",
    "#print(np.delete(temp, 0, axis = 0))\n",
    "#print(np.delete(temp, 0, axis = 1))\n",
    "#print(np.delete(temp, 0, axis = None))\n"
   ]
  },
  {
   "cell_type": "code",
   "execution_count": 165,
   "id": "15cb52d8",
   "metadata": {},
   "outputs": [
    {
     "name": "stdout",
     "output_type": "stream",
     "text": [
      "10a\n",
      "5b\n"
     ]
    },
    {
     "data": {
      "text/plain": [
       "'10a-5b'"
      ]
     },
     "execution_count": 165,
     "metadata": {},
     "output_type": "execute_result"
    }
   ],
   "source": [
    "k = \"10a\"\n",
    "i = \"5b\"\n",
    "print(k)\n",
    "print(i)\n",
    "'-'.join([k,i])"
   ]
  },
  {
   "cell_type": "code",
   "execution_count": 169,
   "id": "bfa48a08",
   "metadata": {},
   "outputs": [
    {
     "name": "stdout",
     "output_type": "stream",
     "text": [
      "1,2\n",
      "['1', '2']\n"
     ]
    }
   ],
   "source": [
    "a = \"1,2\"\n",
    "print(a)\n",
    "b=a.split(',')\n",
    "print(b)"
   ]
  },
  {
   "cell_type": "code",
   "execution_count": 182,
   "id": "c20d3df9",
   "metadata": {},
   "outputs": [
    {
     "name": "stdout",
     "output_type": "stream",
     "text": [
      "[[0]\n",
      " [0]\n",
      " [1]\n",
      " [2]\n",
      " [3]\n",
      " [4]\n",
      " [5]\n",
      " [6]\n",
      " [7]\n",
      " [8]\n",
      " [9]]\n",
      "[0 0 1 2 3 4 5 6 7 8 9]\n"
     ]
    }
   ],
   "source": [
    "a1 = np.array([0])\n",
    "b1 = np.array([0])\n",
    "\n",
    "for i in range(0,10):\n",
    "    a1 = np.vstack([a1, i])\n",
    "    b1 = np.append(b1, i)\n",
    "print(a1)\n",
    "print(b1)"
   ]
  },
  {
   "cell_type": "code",
   "execution_count": 190,
   "id": "89dae288",
   "metadata": {},
   "outputs": [
    {
     "name": "stdout",
     "output_type": "stream",
     "text": [
      "[1.00000000e+01 4.64158883e+02 2.15443469e+04 1.00000000e+06]\n",
      "        Frequency\n",
      "0       10.000000\n",
      "1      464.158883\n",
      "2    21544.346900\n",
      "3  1000000.000000\n"
     ]
    }
   ],
   "source": [
    "frequencies = np.logspace(1, 6, 4) \n",
    "print(frequencies)\n",
    "df = pd.DataFrame(frequencies, columns = ['Frequency'])\n",
    "print(df)"
   ]
  },
  {
   "cell_type": "code",
   "execution_count": 216,
   "id": "8376b2fa",
   "metadata": {},
   "outputs": [
    {
     "name": "stdout",
     "output_type": "stream",
     "text": [
      "   freq   a1   a2   a3 alphabet\n",
      "0   100  0.0  0.0  0.0        a\n",
      "1   200  1.0  2.0  3.0        b\n",
      "2   300  2.0  4.0  6.0        c\n",
      "3   400  3.0  6.0  9.0        d\n"
     ]
    }
   ],
   "source": [
    "freq = np.array([100,200,300,400])\n",
    "df = pd.DataFrame(freq, columns = ['freq'])\n",
    "\n",
    "a1 = []\n",
    "a2 = []\n",
    "a3 = []\n",
    "\n",
    "for i in range(0,4):\n",
    "    a1 = np.append(a1, i)\n",
    "    a2 = np.append(a2, i*2)\n",
    "    a3 = np.append(a3, i*3)\n",
    "\n",
    "df['a1'] = a1\n",
    "df['a2'] = a2      \n",
    "df['a3'] = a3\n",
    "\n",
    "c = 'a,b,c,d'\n",
    "c = c.split(',')\n",
    "df['alphabet'] = c\n",
    "\n",
    "print(df) "
   ]
  }
 ],
 "metadata": {
  "kernelspec": {
   "display_name": "Python (ET4510)",
   "language": "python",
   "name": "et4510env"
  },
  "language_info": {
   "codemirror_mode": {
    "name": "ipython",
    "version": 3
   },
   "file_extension": ".py",
   "mimetype": "text/x-python",
   "name": "python",
   "nbconvert_exporter": "python",
   "pygments_lexer": "ipython3",
   "version": "3.13.7"
  }
 },
 "nbformat": 4,
 "nbformat_minor": 5
}
