{
 "cells": [
  {
   "cell_type": "code",
   "execution_count": null,
   "id": "6acb9dbd",
   "metadata": {},
   "outputs": [
    {
     "data": {
      "text/plain": [
       "18176"
      ]
     },
     "execution_count": 1,
     "metadata": {},
     "output_type": "execute_result"
    }
   ],
   "source": [
    "0x4700\n",
    "#hexadecimal format: 0x "
   ]
  },
  {
   "cell_type": "code",
   "execution_count": 44,
   "id": "03d71c5d",
   "metadata": {},
   "outputs": [
    {
     "name": "stdout",
     "output_type": "stream",
     "text": [
      "47\n",
      "0b101111\n",
      "0x2f\n",
      "47\n",
      "47\n",
      "47\n",
      "47\n",
      "47\n",
      "47\n",
      "47\n"
     ]
    }
   ],
   "source": [
    "print(int(47))\n",
    "print(bin(47))\n",
    "print(hex(47))\n",
    "\n",
    "print(int('0b101111',2))\n",
    "print(int('101111',2))\n",
    "print(int('0x2F',16))\n",
    "print(int('2F',16))\n",
    "print(int('47',10))\n",
    "\n",
    "print(0x2F)\n",
    "print(0b101111)"
   ]
  },
  {
   "cell_type": "code",
   "execution_count": 7,
   "id": "5d514d66",
   "metadata": {},
   "outputs": [
    {
     "name": "stdout",
     "output_type": "stream",
     "text": [
      "Serial<id=0x1124b85b0, open=True>(port='/dev/cu.usbserial-BG00XWYD', baudrate=9600, bytesize=8, parity='E', stopbits=1, timeout=1, xonxoff=False, rtscts=False, dsrdtr=False)\n"
     ]
    }
   ],
   "source": [
    "from Functions import *\n",
    "ser_cn740 = DeviceConnect2('/dev/cu.usbserial-BG00XWYD')  # Omega CN740 (RS-485)\n",
    "print(ser_cn740)"
   ]
  },
  {
   "cell_type": "code",
   "execution_count": 15,
   "id": "d3b6861d",
   "metadata": {},
   "outputs": [
    {
     "name": "stdout",
     "output_type": "stream",
     "text": [
      ":0103040134015E64\n",
      "\n"
     ]
    }
   ],
   "source": [
    "from Functions import *\n",
    "ser_cn740 = DeviceConnect2('/dev/cu.usbserial-BG00XWYD')  # Omega CN740 (RS-485)\n",
    "test = ':010347000002B3\\r\\n'\n",
    "ser_cn740.write(test.encode())\n",
    "response = ser_cn740.readline()\n",
    "print(response.decode())"
   ]
  },
  {
   "cell_type": "code",
   "execution_count": 13,
   "id": "0a908b06",
   "metadata": {},
   "outputs": [
    {
     "name": "stdout",
     "output_type": "stream",
     "text": [
      "265\n",
      "350\n"
     ]
    }
   ],
   "source": [
    "print(int('0x0109',16))\n",
    "print(int('0x015E',16))"
   ]
  },
  {
   "cell_type": "code",
   "execution_count": null,
   "id": "cce6a5bb",
   "metadata": {},
   "outputs": [
    {
     "name": "stdout",
     "output_type": "stream",
     "text": [
      ":010304010F015E89\n",
      "\n"
     ]
    }
   ],
   "source": [
    "from Functions import *\n",
    "ser_cn740 = DeviceConnect2('/dev/cu.usbserial-BG00XWYD')  # Omega CN740 (RS-485)\n",
    "test = ':010347000002B3\\r\\n'\n",
    "ser_cn740.write(test.encode())\n",
    "response = ser_cn740.readline()\n",
    "\n",
    "print(response.decode())\n"
   ]
  },
  {
   "cell_type": "code",
   "execution_count": 23,
   "id": "187331c4",
   "metadata": {},
   "outputs": [
    {
     "name": "stdout",
     "output_type": "stream",
     "text": [
      "0xb3\n"
     ]
    }
   ],
   "source": [
    "# print(int('0x01',16))\n",
    "# print(int('0x03',16))\n",
    "# print(int('0x47',16))\n",
    "# print(int('0x00',16))\n",
    "# print(int('0x00',16))\n",
    "# print(int('0x02',16))\n",
    "print(hex(256-77))"
   ]
  },
  {
   "cell_type": "code",
   "execution_count": 25,
   "id": "acd92004",
   "metadata": {},
   "outputs": [
    {
     "name": "stdout",
     "output_type": "stream",
     "text": [
      "E7\n"
     ]
    }
   ],
   "source": [
    "test = ':010304010F015E89\\r\\n'\n",
    "body = test[1:-4]\n",
    "def calc_lrc(hexstr):\n",
    "    total = 0\n",
    "    for i in range(0, len(hexstr), 2):\n",
    "        total += int(hexstr[i:i+2], 16)\n",
    "    return f\"{(-total) & 0xFF:02X}\"\n",
    "print(calc_lrc(body[:-2]))"
   ]
  },
  {
   "cell_type": "code",
   "execution_count": 34,
   "id": "46ff0e29",
   "metadata": {},
   "outputs": [
    {
     "name": "stdout",
     "output_type": "stream",
     "text": [
      "010304010F015E\n",
      "14\n",
      "12\n"
     ]
    }
   ],
   "source": [
    "print(body)\n",
    "print(len(body))\n",
    "print(len(body[:-2]))"
   ]
  },
  {
   "cell_type": "code",
   "execution_count": 35,
   "id": "aea9aae9",
   "metadata": {},
   "outputs": [
    {
     "name": "stdout",
     "output_type": "stream",
     "text": [
      "01\n",
      "03\n",
      "04\n",
      "01\n",
      "0F\n",
      "01\n"
     ]
    }
   ],
   "source": [
    "for i in range(0, len(body[:-2]), 2):\n",
    "    print(body[i:i+2])"
   ]
  },
  {
   "cell_type": "code",
   "execution_count": 36,
   "id": "db60bb1b",
   "metadata": {},
   "outputs": [
    {
     "name": "stdout",
     "output_type": "stream",
     "text": [
      "1\n",
      "3\n",
      "4\n",
      "1\n",
      "15\n",
      "1\n"
     ]
    }
   ],
   "source": [
    "for i in range(0, len(body[:-2]), 2):\n",
    "    print(int(body[i:i+2], 16))"
   ]
  },
  {
   "cell_type": "code",
   "execution_count": 39,
   "id": "f2e04943",
   "metadata": {},
   "outputs": [
    {
     "name": "stdout",
     "output_type": "stream",
     "text": [
      "255\n",
      "179\n"
     ]
    }
   ],
   "source": [
    "print(0xFF)\n",
    "print(-77 & 0xFF)"
   ]
  },
  {
   "cell_type": "code",
   "execution_count": null,
   "id": "89abe3d0",
   "metadata": {},
   "outputs": [
    {
     "data": {
      "text/plain": [
       "0"
      ]
     },
     "execution_count": 41,
     "metadata": {},
     "output_type": "execute_result"
    }
   ],
   "source": [
    "# & is bitwise AND operator\n",
    "1 & 4 # 0001 & 0100 = 0000 = 0\n",
    "1 | 4 # 0001 | 0100 = 0101 = 5"
   ]
  },
  {
   "cell_type": "code",
   "execution_count": 44,
   "id": "a6c6262b",
   "metadata": {},
   "outputs": [
    {
     "name": "stdout",
     "output_type": "stream",
     "text": [
      "255\n"
     ]
    },
    {
     "data": {
      "text/plain": [
       "'0b11111111'"
      ]
     },
     "execution_count": 44,
     "metadata": {},
     "output_type": "execute_result"
    }
   ],
   "source": [
    "print(0xFF)\n",
    "bin(0xFF)"
   ]
  },
  {
   "cell_type": "code",
   "execution_count": 7,
   "id": "84a79619",
   "metadata": {},
   "outputs": [
    {
     "name": "stdout",
     "output_type": "stream",
     "text": [
      "26.3\n",
      "40.0\n"
     ]
    }
   ],
   "source": [
    "from Functions import *\n",
    "ser_cn740 = DeviceConnect2('/dev/cu.usbserial-BG00XWYD')  # Omega CN740 (RS-485)\n",
    "temp = PIDDataReadout(ser_cn740)\n",
    "print(temp[0])\n",
    "print(temp[1])"
   ]
  },
  {
   "cell_type": "code",
   "execution_count": 1,
   "id": "1ead1146",
   "metadata": {},
   "outputs": [
    {
     "name": "stdout",
     "output_type": "stream",
     "text": [
      "[TX] :01064701002889\n",
      "[RX] :01064701002889\n"
     ]
    },
    {
     "data": {
      "text/plain": [
       "''"
      ]
     },
     "execution_count": 1,
     "metadata": {},
     "output_type": "execute_result"
    }
   ],
   "source": [
    "from Functions import *\n",
    "ser_cn740 = DeviceConnect2('/dev/cu.usbserial-BG00XWYD')  # Omega CN740 (RS-485)\n",
    "PIDcommander(ser_cn740,0x4701,40)"
   ]
  },
  {
   "cell_type": "code",
   "execution_count": 35,
   "id": "4cb66cf8",
   "metadata": {},
   "outputs": [
    {
     "data": {
      "text/plain": [
       "':01064719000099\\r\\n was sent. confirmed.'"
      ]
     },
     "execution_count": 35,
     "metadata": {},
     "output_type": "execute_result"
    }
   ],
   "source": [
    "from Functions import *\n",
    "ser_cn740 = DeviceConnect2('/dev/cu.usbserial-BG00XWYD')  # Omega CN740 (RS-485)\n",
    "\n",
    "def PIDcommander(ser, register_hex, value_int):\n",
    "    # example: PIDcommander(ser_cn740,0x4701,400) to set SV to 40.0C\n",
    "    dev_addr = '01' # Device address\n",
    "    func = '06' # Function code to write = 06H\n",
    "    reg = f\"{int(register_hex):04X}\" #\n",
    "    val = f\"{value_int:04X}\"              # Convert int to 4-digit hex\n",
    "\n",
    "    msg_body = dev_addr + func + reg + val\n",
    "    lrc = calc_lrc(msg_body)              \n",
    "    full_command = f\":{msg_body}{lrc}\\r\\n\"  # Full ASCII message\n",
    "    \n",
    "    ser.write(full_command.encode())\n",
    "    response = ser.readline().decode()\n",
    "\n",
    "    if full_command != response:\n",
    "        return f\"Error: Response mismatch: sent={full_command} and received={response}\"\n",
    "        \n",
    "    return f'{response} was sent. confirmed.'\n",
    "\n",
    "PIDcommander(ser_cn740,0x4719,0) # 0x4719 --> RUN (1) /STOP (0) control"
   ]
  }
 ],
 "metadata": {
  "kernelspec": {
   "display_name": ".venv",
   "language": "python",
   "name": "python3"
  },
  "language_info": {
   "codemirror_mode": {
    "name": "ipython",
    "version": 3
   },
   "file_extension": ".py",
   "mimetype": "text/x-python",
   "name": "python",
   "nbconvert_exporter": "python",
   "pygments_lexer": "ipython3",
   "version": "3.13.7"
  }
 },
 "nbformat": 4,
 "nbformat_minor": 5
}
